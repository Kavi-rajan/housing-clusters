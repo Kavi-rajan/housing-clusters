{
 "cells": [
  {
   "cell_type": "code",
   "execution_count": 1,
   "id": "cd5243d3",
   "metadata": {},
   "outputs": [],
   "source": [
    "import pandas as pd\n",
    "import seaborn as sns\n",
    "import numpy as np\n",
    "import matplotlib.pyplot as plt\n",
    "from sklearn import preprocessing\n",
    "from sklearn.preprocessing import StandardScaler\n",
    "from sklearn.cluster import KMeans\n",
    "from scipy.spatial.distance import cdist\n",
    "from sklearn import metrics\n",
    "%matplotlib inline"
   ]
  },
  {
   "cell_type": "code",
   "execution_count": 24,
   "id": "c82a6651",
   "metadata": {},
   "outputs": [],
   "source": [
    "#loading dataset\n",
    "\n",
    "df=pd.read_csv('https://raw.githubusercontent.com/edyoda/data-science-complete-tutorial/master/Data/house_rental_data.csv.txt')"
   ]
  },
  {
   "cell_type": "code",
   "execution_count": 25,
   "id": "50423f28",
   "metadata": {},
   "outputs": [
    {
     "data": {
      "text/html": [
       "<div>\n",
       "<style scoped>\n",
       "    .dataframe tbody tr th:only-of-type {\n",
       "        vertical-align: middle;\n",
       "    }\n",
       "\n",
       "    .dataframe tbody tr th {\n",
       "        vertical-align: top;\n",
       "    }\n",
       "\n",
       "    .dataframe thead th {\n",
       "        text-align: right;\n",
       "    }\n",
       "</style>\n",
       "<table border=\"1\" class=\"dataframe\">\n",
       "  <thead>\n",
       "    <tr style=\"text-align: right;\">\n",
       "      <th></th>\n",
       "      <th>Unnamed: 0</th>\n",
       "      <th>Sqft</th>\n",
       "      <th>Floor</th>\n",
       "      <th>TotalFloor</th>\n",
       "      <th>Bedroom</th>\n",
       "      <th>Living.Room</th>\n",
       "      <th>Bathroom</th>\n",
       "      <th>Price</th>\n",
       "    </tr>\n",
       "  </thead>\n",
       "  <tbody>\n",
       "    <tr>\n",
       "      <th>0</th>\n",
       "      <td>1</td>\n",
       "      <td>1177.698</td>\n",
       "      <td>2</td>\n",
       "      <td>7</td>\n",
       "      <td>2</td>\n",
       "      <td>2</td>\n",
       "      <td>2</td>\n",
       "      <td>62000</td>\n",
       "    </tr>\n",
       "    <tr>\n",
       "      <th>1</th>\n",
       "      <td>2</td>\n",
       "      <td>2134.800</td>\n",
       "      <td>5</td>\n",
       "      <td>7</td>\n",
       "      <td>4</td>\n",
       "      <td>2</td>\n",
       "      <td>2</td>\n",
       "      <td>78000</td>\n",
       "    </tr>\n",
       "    <tr>\n",
       "      <th>2</th>\n",
       "      <td>3</td>\n",
       "      <td>1138.560</td>\n",
       "      <td>5</td>\n",
       "      <td>7</td>\n",
       "      <td>2</td>\n",
       "      <td>2</td>\n",
       "      <td>1</td>\n",
       "      <td>58000</td>\n",
       "    </tr>\n",
       "    <tr>\n",
       "      <th>3</th>\n",
       "      <td>4</td>\n",
       "      <td>1458.780</td>\n",
       "      <td>2</td>\n",
       "      <td>7</td>\n",
       "      <td>3</td>\n",
       "      <td>2</td>\n",
       "      <td>2</td>\n",
       "      <td>45000</td>\n",
       "    </tr>\n",
       "    <tr>\n",
       "      <th>4</th>\n",
       "      <td>5</td>\n",
       "      <td>967.776</td>\n",
       "      <td>11</td>\n",
       "      <td>14</td>\n",
       "      <td>3</td>\n",
       "      <td>2</td>\n",
       "      <td>2</td>\n",
       "      <td>45000</td>\n",
       "    </tr>\n",
       "  </tbody>\n",
       "</table>\n",
       "</div>"
      ],
      "text/plain": [
       "   Unnamed: 0      Sqft  Floor  TotalFloor  Bedroom  Living.Room  Bathroom  \\\n",
       "0           1  1177.698      2           7        2            2         2   \n",
       "1           2  2134.800      5           7        4            2         2   \n",
       "2           3  1138.560      5           7        2            2         1   \n",
       "3           4  1458.780      2           7        3            2         2   \n",
       "4           5   967.776     11          14        3            2         2   \n",
       "\n",
       "   Price  \n",
       "0  62000  \n",
       "1  78000  \n",
       "2  58000  \n",
       "3  45000  \n",
       "4  45000  "
      ]
     },
     "execution_count": 25,
     "metadata": {},
     "output_type": "execute_result"
    }
   ],
   "source": [
    "df.head()"
   ]
  },
  {
   "cell_type": "code",
   "execution_count": 26,
   "id": "7f9e2401",
   "metadata": {},
   "outputs": [],
   "source": [
    "df.drop('Unnamed: 0',axis=1,inplace=True)"
   ]
  },
  {
   "cell_type": "code",
   "execution_count": 27,
   "id": "6be0aec6",
   "metadata": {},
   "outputs": [
    {
     "data": {
      "text/html": [
       "<div>\n",
       "<style scoped>\n",
       "    .dataframe tbody tr th:only-of-type {\n",
       "        vertical-align: middle;\n",
       "    }\n",
       "\n",
       "    .dataframe tbody tr th {\n",
       "        vertical-align: top;\n",
       "    }\n",
       "\n",
       "    .dataframe thead th {\n",
       "        text-align: right;\n",
       "    }\n",
       "</style>\n",
       "<table border=\"1\" class=\"dataframe\">\n",
       "  <thead>\n",
       "    <tr style=\"text-align: right;\">\n",
       "      <th></th>\n",
       "      <th>Sqft</th>\n",
       "      <th>Floor</th>\n",
       "      <th>TotalFloor</th>\n",
       "      <th>Bedroom</th>\n",
       "      <th>Living.Room</th>\n",
       "      <th>Bathroom</th>\n",
       "      <th>Price</th>\n",
       "    </tr>\n",
       "  </thead>\n",
       "  <tbody>\n",
       "    <tr>\n",
       "      <th>count</th>\n",
       "      <td>645.000000</td>\n",
       "      <td>645.000000</td>\n",
       "      <td>645.000000</td>\n",
       "      <td>645.000000</td>\n",
       "      <td>645.000000</td>\n",
       "      <td>645.000000</td>\n",
       "      <td>645.000000</td>\n",
       "    </tr>\n",
       "    <tr>\n",
       "      <th>mean</th>\n",
       "      <td>1527.656260</td>\n",
       "      <td>5.939535</td>\n",
       "      <td>10.855814</td>\n",
       "      <td>2.837209</td>\n",
       "      <td>1.813953</td>\n",
       "      <td>1.810853</td>\n",
       "      <td>61986.823256</td>\n",
       "    </tr>\n",
       "    <tr>\n",
       "      <th>std</th>\n",
       "      <td>767.386531</td>\n",
       "      <td>3.884721</td>\n",
       "      <td>4.996208</td>\n",
       "      <td>1.010740</td>\n",
       "      <td>0.462364</td>\n",
       "      <td>0.683574</td>\n",
       "      <td>35635.091007</td>\n",
       "    </tr>\n",
       "    <tr>\n",
       "      <th>min</th>\n",
       "      <td>359.358000</td>\n",
       "      <td>1.000000</td>\n",
       "      <td>1.000000</td>\n",
       "      <td>1.000000</td>\n",
       "      <td>0.000000</td>\n",
       "      <td>0.000000</td>\n",
       "      <td>6100.000000</td>\n",
       "    </tr>\n",
       "    <tr>\n",
       "      <th>25%</th>\n",
       "      <td>925.080000</td>\n",
       "      <td>3.000000</td>\n",
       "      <td>7.000000</td>\n",
       "      <td>2.000000</td>\n",
       "      <td>2.000000</td>\n",
       "      <td>1.000000</td>\n",
       "      <td>39000.000000</td>\n",
       "    </tr>\n",
       "    <tr>\n",
       "      <th>50%</th>\n",
       "      <td>1423.200000</td>\n",
       "      <td>5.000000</td>\n",
       "      <td>12.000000</td>\n",
       "      <td>3.000000</td>\n",
       "      <td>2.000000</td>\n",
       "      <td>2.000000</td>\n",
       "      <td>50000.000000</td>\n",
       "    </tr>\n",
       "    <tr>\n",
       "      <th>75%</th>\n",
       "      <td>1892.856000</td>\n",
       "      <td>8.000000</td>\n",
       "      <td>14.000000</td>\n",
       "      <td>4.000000</td>\n",
       "      <td>2.000000</td>\n",
       "      <td>2.000000</td>\n",
       "      <td>75000.000000</td>\n",
       "    </tr>\n",
       "    <tr>\n",
       "      <th>max</th>\n",
       "      <td>5856.468000</td>\n",
       "      <td>22.000000</td>\n",
       "      <td>38.000000</td>\n",
       "      <td>7.000000</td>\n",
       "      <td>4.000000</td>\n",
       "      <td>5.000000</td>\n",
       "      <td>250000.000000</td>\n",
       "    </tr>\n",
       "  </tbody>\n",
       "</table>\n",
       "</div>"
      ],
      "text/plain": [
       "              Sqft       Floor  TotalFloor     Bedroom  Living.Room  \\\n",
       "count   645.000000  645.000000  645.000000  645.000000   645.000000   \n",
       "mean   1527.656260    5.939535   10.855814    2.837209     1.813953   \n",
       "std     767.386531    3.884721    4.996208    1.010740     0.462364   \n",
       "min     359.358000    1.000000    1.000000    1.000000     0.000000   \n",
       "25%     925.080000    3.000000    7.000000    2.000000     2.000000   \n",
       "50%    1423.200000    5.000000   12.000000    3.000000     2.000000   \n",
       "75%    1892.856000    8.000000   14.000000    4.000000     2.000000   \n",
       "max    5856.468000   22.000000   38.000000    7.000000     4.000000   \n",
       "\n",
       "         Bathroom          Price  \n",
       "count  645.000000     645.000000  \n",
       "mean     1.810853   61986.823256  \n",
       "std      0.683574   35635.091007  \n",
       "min      0.000000    6100.000000  \n",
       "25%      1.000000   39000.000000  \n",
       "50%      2.000000   50000.000000  \n",
       "75%      2.000000   75000.000000  \n",
       "max      5.000000  250000.000000  "
      ]
     },
     "execution_count": 27,
     "metadata": {},
     "output_type": "execute_result"
    }
   ],
   "source": [
    "df.describe()"
   ]
  },
  {
   "cell_type": "code",
   "execution_count": 28,
   "id": "3ccd0363",
   "metadata": {},
   "outputs": [
    {
     "data": {
      "text/plain": [
       "Sqft           0\n",
       "Floor          0\n",
       "TotalFloor     0\n",
       "Bedroom        0\n",
       "Living.Room    0\n",
       "Bathroom       0\n",
       "Price          0\n",
       "dtype: int64"
      ]
     },
     "execution_count": 28,
     "metadata": {},
     "output_type": "execute_result"
    }
   ],
   "source": [
    "df.isnull().sum()"
   ]
  },
  {
   "cell_type": "code",
   "execution_count": null,
   "id": "5a138eb1",
   "metadata": {},
   "outputs": [],
   "source": [
    "#NO NULL values"
   ]
  },
  {
   "cell_type": "markdown",
   "id": "8917fa7d",
   "metadata": {},
   "source": [
    "# Data Preprocessing"
   ]
  },
  {
   "cell_type": "code",
   "execution_count": 29,
   "id": "715068f2",
   "metadata": {},
   "outputs": [],
   "source": [
    "#duplicates removal\n",
    "\n",
    "df.drop_duplicates(inplace=True)"
   ]
  },
  {
   "cell_type": "code",
   "execution_count": 30,
   "id": "d46c3278",
   "metadata": {},
   "outputs": [
    {
     "data": {
      "text/plain": [
       "(579, 7)"
      ]
     },
     "execution_count": 30,
     "metadata": {},
     "output_type": "execute_result"
    }
   ],
   "source": [
    "df.shape"
   ]
  },
  {
   "cell_type": "code",
   "execution_count": 9,
   "id": "d7646b65",
   "metadata": {},
   "outputs": [],
   "source": [
    "# Outliers removal"
   ]
  },
  {
   "cell_type": "code",
   "execution_count": 31,
   "id": "f73766f3",
   "metadata": {},
   "outputs": [],
   "source": [
    "df=df[(df['TotalFloor']<26)]"
   ]
  },
  {
   "cell_type": "code",
   "execution_count": 32,
   "id": "cc7b077b",
   "metadata": {},
   "outputs": [],
   "source": [
    "df=df[(df['Bedroom']<6)]"
   ]
  },
  {
   "cell_type": "code",
   "execution_count": 33,
   "id": "f32fab8a",
   "metadata": {},
   "outputs": [],
   "source": [
    "df=df[(df['Living.Room']<4)]"
   ]
  },
  {
   "cell_type": "code",
   "execution_count": 34,
   "id": "49b865cc",
   "metadata": {},
   "outputs": [],
   "source": [
    "df=df[(df['Sqft']<4000)]"
   ]
  },
  {
   "cell_type": "code",
   "execution_count": 35,
   "id": "f43e501a",
   "metadata": {},
   "outputs": [
    {
     "data": {
      "text/plain": [
       "(570, 7)"
      ]
     },
     "execution_count": 35,
     "metadata": {},
     "output_type": "execute_result"
    }
   ],
   "source": [
    "df.shape"
   ]
  },
  {
   "cell_type": "code",
   "execution_count": 37,
   "id": "59a74337",
   "metadata": {},
   "outputs": [],
   "source": [
    "#performing standard scaling\n",
    "\n",
    "scaler=StandardScaler()\n",
    "df[['Sqft','Price']]=scaler.fit_transform(df[['Sqft','Price']])"
   ]
  },
  {
   "cell_type": "code",
   "execution_count": 38,
   "id": "19de00c6",
   "metadata": {},
   "outputs": [
    {
     "data": {
      "text/html": [
       "<div>\n",
       "<style scoped>\n",
       "    .dataframe tbody tr th:only-of-type {\n",
       "        vertical-align: middle;\n",
       "    }\n",
       "\n",
       "    .dataframe tbody tr th {\n",
       "        vertical-align: top;\n",
       "    }\n",
       "\n",
       "    .dataframe thead th {\n",
       "        text-align: right;\n",
       "    }\n",
       "</style>\n",
       "<table border=\"1\" class=\"dataframe\">\n",
       "  <thead>\n",
       "    <tr style=\"text-align: right;\">\n",
       "      <th></th>\n",
       "      <th>Sqft</th>\n",
       "      <th>Floor</th>\n",
       "      <th>TotalFloor</th>\n",
       "      <th>Bedroom</th>\n",
       "      <th>Living.Room</th>\n",
       "      <th>Bathroom</th>\n",
       "      <th>Price</th>\n",
       "    </tr>\n",
       "  </thead>\n",
       "  <tbody>\n",
       "    <tr>\n",
       "      <th>0</th>\n",
       "      <td>-0.438893</td>\n",
       "      <td>2</td>\n",
       "      <td>7</td>\n",
       "      <td>2</td>\n",
       "      <td>2</td>\n",
       "      <td>2</td>\n",
       "      <td>0.054892</td>\n",
       "    </tr>\n",
       "    <tr>\n",
       "      <th>1</th>\n",
       "      <td>0.940508</td>\n",
       "      <td>5</td>\n",
       "      <td>7</td>\n",
       "      <td>4</td>\n",
       "      <td>2</td>\n",
       "      <td>2</td>\n",
       "      <td>0.531724</td>\n",
       "    </tr>\n",
       "    <tr>\n",
       "      <th>2</th>\n",
       "      <td>-0.495300</td>\n",
       "      <td>5</td>\n",
       "      <td>7</td>\n",
       "      <td>2</td>\n",
       "      <td>2</td>\n",
       "      <td>1</td>\n",
       "      <td>-0.064315</td>\n",
       "    </tr>\n",
       "    <tr>\n",
       "      <th>3</th>\n",
       "      <td>-0.033790</td>\n",
       "      <td>2</td>\n",
       "      <td>7</td>\n",
       "      <td>3</td>\n",
       "      <td>2</td>\n",
       "      <td>2</td>\n",
       "      <td>-0.451741</td>\n",
       "    </tr>\n",
       "    <tr>\n",
       "      <th>4</th>\n",
       "      <td>-0.741438</td>\n",
       "      <td>11</td>\n",
       "      <td>14</td>\n",
       "      <td>3</td>\n",
       "      <td>2</td>\n",
       "      <td>2</td>\n",
       "      <td>-0.451741</td>\n",
       "    </tr>\n",
       "  </tbody>\n",
       "</table>\n",
       "</div>"
      ],
      "text/plain": [
       "       Sqft  Floor  TotalFloor  Bedroom  Living.Room  Bathroom     Price\n",
       "0 -0.438893      2           7        2            2         2  0.054892\n",
       "1  0.940508      5           7        4            2         2  0.531724\n",
       "2 -0.495300      5           7        2            2         1 -0.064315\n",
       "3 -0.033790      2           7        3            2         2 -0.451741\n",
       "4 -0.741438     11          14        3            2         2 -0.451741"
      ]
     },
     "execution_count": 38,
     "metadata": {},
     "output_type": "execute_result"
    }
   ],
   "source": [
    "df.head()"
   ]
  },
  {
   "cell_type": "code",
   "execution_count": 41,
   "id": "f895e044",
   "metadata": {},
   "outputs": [],
   "source": [
    "array1=df.iloc[:,[0,6]]"
   ]
  },
  {
   "cell_type": "code",
   "execution_count": 44,
   "id": "f37c05f6",
   "metadata": {},
   "outputs": [],
   "source": [
    "#identifying optimal number of clusters\n",
    "\n",
    "distortions=[]\n",
    "inertias=[]\n",
    "mapping1={}\n",
    "mapping2={}\n",
    "K_range=range(1,15)\n",
    "\n",
    "array1=df.iloc[:,[0,6]]\n",
    "\n",
    "\n",
    "for k in K_range:\n",
    "    model=KMeans(n_clusters=k)\n",
    "    model.fit(array1)\n",
    "    distortions.append(sum(np.min(cdist(array1,model.cluster_centers_,'euclidean'),axis=1))/array1.shape[0])\n",
    "    inertias.append(model.inertia_)\n",
    "    mapping1[k]=sum(np.min(cdist(array1,model.cluster_centers_,'euclidean'),axis=1))/array1.shape[0]\n",
    "    mapping2[k]=model.inertia_\n"
   ]
  },
  {
   "cell_type": "code",
   "execution_count": 45,
   "id": "204a9ac0",
   "metadata": {},
   "outputs": [
    {
     "name": "stdout",
     "output_type": "stream",
     "text": [
      "1: 1.1376005849413666\n",
      "2: 0.7565018550992259\n",
      "3: 0.6111412757726508\n",
      "4: 0.4939901664520449\n",
      "5: 0.4462477247380697\n",
      "6: 0.41733424242700096\n",
      "7: 0.3999486041561674\n",
      "8: 0.3686280015588206\n",
      "9: 0.35280964316672175\n",
      "10: 0.3252890989529815\n",
      "11: 0.30960740639930107\n",
      "12: 0.29628960469286364\n",
      "13: 0.2830185953939754\n",
      "14: 0.2713917375170019\n"
     ]
    },
    {
     "data": {
      "image/png": "[encoded data removed]",
      "text/plain": [
       "<Figure size 640x480 with 1 Axes>"
      ]
     },
     "metadata": {},
     "output_type": "display_data"
    }
   ],
   "source": [
    "for key,val in mapping1.items():\n",
    "    print(str(key)+': '+str(val))\n",
    "\n",
    "    \n",
    "plt.plot(K_range,distortions,'bx-')\n",
    "plt.xlabel('Values of k')\n",
    "plt.ylabel('Distortion')\n",
    "plt.title('Eblow method using distortion')\n",
    "plt.show()"
   ]
  },
  {
   "cell_type": "code",
   "execution_count": 46,
   "id": "712eb857",
   "metadata": {},
   "outputs": [
    {
     "name": "stdout",
     "output_type": "stream",
     "text": [
      "1: 1140.0000000000002\n",
      "2: 479.6473456217561\n",
      "3: 289.85303963081805\n",
      "4: 205.9819146459059\n",
      "5: 164.96164001006193\n",
      "6: 136.21714379629157\n",
      "7: 120.25019630489628\n",
      "8: 105.84016412564608\n",
      "9: 93.56001955179214\n",
      "10: 83.78383625936792\n",
      "11: 75.07524591663183\n",
      "12: 67.96516439705331\n",
      "13: 61.794506981095296\n",
      "14: 57.36933128674806\n"
     ]
    },
    {
     "data": {
      "image/png": "[encoded data removed]",
      "text/plain": [
       "<Figure size 640x480 with 1 Axes>"
      ]
     },
     "metadata": {},
     "output_type": "display_data"
    }
   ],
   "source": [
    "for key,val in mapping2.items():\n",
    "    print(str(key)+': '+str(val))\n",
    "\n",
    "    \n",
    "plt.plot(K_range,inertias,'bx-')\n",
    "plt.xlabel('Values of k')\n",
    "plt.ylabel('WCSS')\n",
    "plt.title('Eblow method using inertia(WCSS)')\n",
    "plt.show()"
   ]
  },
  {
   "cell_type": "code",
   "execution_count": 51,
   "id": "b99c85e6",
   "metadata": {},
   "outputs": [
    {
     "name": "stdout",
     "output_type": "stream",
     "text": [
      "centroids :\n",
      " [[-0.99326841 -0.74975947]\n",
      " [ 0.89996122  0.80936371]\n",
      " [-0.0341581  -0.27141569]\n",
      " [ 2.36195794  2.88730061]]\n"
     ]
    }
   ],
   "source": [
    "#printing centroids\n",
    "\n",
    "data=pd.DataFrame(array1,columns=('Sqft','Price'))\n",
    "\n",
    "kmeans=KMeans(n_clusters=4).fit(data)\n",
    "centroids=kmeans.cluster_centers_\n",
    "print('centroids :\\n',centroids)"
   ]
  },
  {
   "cell_type": "code",
   "execution_count": 52,
   "id": "ece700a0",
   "metadata": {},
   "outputs": [
    {
     "data": {
      "image/png": "[encoded data removed]",
      "text/plain": [
       "<Figure size 640x480 with 1 Axes>"
      ]
     },
     "metadata": {},
     "output_type": "display_data"
    }
   ],
   "source": [
    "plt.scatter(data['Sqft'],data['Price'],c=kmeans.labels_.astype(float))\n",
    "plt.scatter(centroids[:,0],centroids[:,1],c='red')\n",
    "plt.show()"
   ]
  },
  {
   "cell_type": "code",
   "execution_count": 53,
   "id": "cf0bf298",
   "metadata": {},
   "outputs": [
    {
     "data": {
      "text/plain": [
       "array([2, 1, 2, 2, 0, 1, 2, 0, 2, 2, 0, 0, 2, 0, 1, 1, 0, 0, 1, 0, 3, 0,\n",
       "       1, 3, 1, 3, 0, 0, 2, 2, 2, 0, 0, 0, 0, 3, 0, 3, 0, 0, 2, 1, 2, 2,\n",
       "       1, 0, 1, 2, 0, 0, 1, 0, 0, 0, 2, 0, 0, 2, 2, 0, 0, 0, 0, 0, 2, 0,\n",
       "       2, 1, 0, 0, 1, 2, 2, 1, 0, 2, 0, 0, 0, 2, 2, 3, 2, 1, 1, 1, 1, 2,\n",
       "       1, 1, 2, 1, 1, 2, 1, 2, 1, 3, 3, 1, 1, 0, 2, 1, 2, 0, 1, 1, 1, 2,\n",
       "       3, 0, 0, 0, 0, 2, 1, 1, 1, 2, 1, 2, 0, 2, 2, 1, 0, 1, 2, 1, 2, 3,\n",
       "       2, 2, 2, 2, 0, 1, 2, 2, 1, 1, 2, 0, 0, 0, 0, 2, 2, 2, 0, 0, 2, 1,\n",
       "       1, 1, 2, 0, 1, 1, 3, 1, 2, 2, 2, 2, 0, 3, 0, 2, 2, 2, 2, 1, 0, 0,\n",
       "       1, 1, 2, 1, 0, 0, 2, 0, 2, 2, 0, 2, 1, 0, 0, 2, 2, 2, 0, 1, 2, 2,\n",
       "       2, 1, 0, 1, 2, 1, 0, 1, 0, 0, 1, 2, 1, 2, 2, 0, 2, 0, 1, 0, 2, 3,\n",
       "       1, 2, 3, 0, 3, 2, 1, 1, 1, 2, 0, 2, 1, 2, 0, 0, 2, 0, 0, 0, 0, 2,\n",
       "       2, 2, 1, 0, 0, 2, 2, 1, 1, 0, 0, 2, 2, 2, 1, 2, 3, 1, 0, 1, 2, 0,\n",
       "       1, 2, 2, 2, 1, 1, 1, 3, 1, 2, 1, 2, 2, 1, 2, 2, 2, 2, 2, 2, 2, 2,\n",
       "       1, 1, 1, 1, 2, 0, 3, 1, 0, 2, 2, 3, 0, 2, 1, 0, 3, 1, 0, 2, 0, 2,\n",
       "       0, 0, 1, 2, 2, 0, 0, 1, 0, 0, 2, 0, 1, 2, 2, 1, 1, 1, 1, 2, 2, 2,\n",
       "       0, 0, 0, 0, 0, 0, 0, 2, 0, 2, 1, 2, 1, 1, 2, 1, 2, 2, 1, 0, 2, 2,\n",
       "       2, 2, 2, 2, 1, 1, 0, 2, 2, 2, 1, 1, 0, 0, 0, 0, 0, 0, 0, 0, 0, 2,\n",
       "       0, 2, 3, 0, 0, 0, 2, 1, 1, 1, 3, 0, 0, 2, 1, 0, 1, 3, 0, 0, 2, 2,\n",
       "       0, 2, 1, 1, 1, 1, 2, 2, 2, 0, 0, 2, 0, 2, 2, 2, 2, 2, 2, 2, 3, 0,\n",
       "       3, 1, 1, 2, 1, 2, 2, 2, 0, 1, 1, 1, 2, 2, 2, 0, 0, 2, 2, 1, 1, 2,\n",
       "       1, 0, 1, 0, 1, 2, 2, 3, 0, 2, 0, 0, 1, 1, 0, 0, 0, 0, 1, 2, 2, 0,\n",
       "       0, 0, 0, 0, 2, 2, 2, 2, 0, 3, 0, 0, 2, 1, 2, 1, 2, 0, 2, 3, 0, 0,\n",
       "       2, 2, 2, 2, 2, 2, 1, 1, 2, 2, 2, 0, 2, 0, 0, 0, 2, 2, 0, 1, 1, 1,\n",
       "       0, 0, 2, 0, 0, 0, 0, 0, 2, 0, 2, 0, 1, 3, 0, 0, 0, 1, 0, 2, 0, 0,\n",
       "       0, 2, 1, 0, 2, 1, 0, 2, 0, 0, 0, 0, 0, 2, 2, 0, 2, 2, 0, 1, 0, 0,\n",
       "       1, 1, 1, 2, 2, 2, 2, 2, 0, 2, 1, 0, 1, 2, 2, 3, 2, 0, 0, 2])"
      ]
     },
     "execution_count": 53,
     "metadata": {},
     "output_type": "execute_result"
    }
   ],
   "source": [
    "kmeans.labels_"
   ]
  },
  {
   "cell_type": "code",
   "execution_count": 54,
   "id": "6e50c0a0",
   "metadata": {},
   "outputs": [],
   "source": [
    "df['Category']=kmeans.labels_"
   ]
  },
  {
   "cell_type": "code",
   "execution_count": 55,
   "id": "c7752f0f",
   "metadata": {},
   "outputs": [
    {
     "data": {
      "text/html": [
       "<div>\n",
       "<style scoped>\n",
       "    .dataframe tbody tr th:only-of-type {\n",
       "        vertical-align: middle;\n",
       "    }\n",
       "\n",
       "    .dataframe tbody tr th {\n",
       "        vertical-align: top;\n",
       "    }\n",
       "\n",
       "    .dataframe thead th {\n",
       "        text-align: right;\n",
       "    }\n",
       "</style>\n",
       "<table border=\"1\" class=\"dataframe\">\n",
       "  <thead>\n",
       "    <tr style=\"text-align: right;\">\n",
       "      <th></th>\n",
       "      <th>Sqft</th>\n",
       "      <th>Floor</th>\n",
       "      <th>TotalFloor</th>\n",
       "      <th>Bedroom</th>\n",
       "      <th>Living.Room</th>\n",
       "      <th>Bathroom</th>\n",
       "      <th>Price</th>\n",
       "      <th>Category</th>\n",
       "    </tr>\n",
       "  </thead>\n",
       "  <tbody>\n",
       "    <tr>\n",
       "      <th>0</th>\n",
       "      <td>-0.438893</td>\n",
       "      <td>2</td>\n",
       "      <td>7</td>\n",
       "      <td>2</td>\n",
       "      <td>2</td>\n",
       "      <td>2</td>\n",
       "      <td>0.054892</td>\n",
       "      <td>2</td>\n",
       "    </tr>\n",
       "    <tr>\n",
       "      <th>1</th>\n",
       "      <td>0.940508</td>\n",
       "      <td>5</td>\n",
       "      <td>7</td>\n",
       "      <td>4</td>\n",
       "      <td>2</td>\n",
       "      <td>2</td>\n",
       "      <td>0.531724</td>\n",
       "      <td>1</td>\n",
       "    </tr>\n",
       "    <tr>\n",
       "      <th>2</th>\n",
       "      <td>-0.495300</td>\n",
       "      <td>5</td>\n",
       "      <td>7</td>\n",
       "      <td>2</td>\n",
       "      <td>2</td>\n",
       "      <td>1</td>\n",
       "      <td>-0.064315</td>\n",
       "      <td>2</td>\n",
       "    </tr>\n",
       "    <tr>\n",
       "      <th>3</th>\n",
       "      <td>-0.033790</td>\n",
       "      <td>2</td>\n",
       "      <td>7</td>\n",
       "      <td>3</td>\n",
       "      <td>2</td>\n",
       "      <td>2</td>\n",
       "      <td>-0.451741</td>\n",
       "      <td>2</td>\n",
       "    </tr>\n",
       "    <tr>\n",
       "      <th>4</th>\n",
       "      <td>-0.741438</td>\n",
       "      <td>11</td>\n",
       "      <td>14</td>\n",
       "      <td>3</td>\n",
       "      <td>2</td>\n",
       "      <td>2</td>\n",
       "      <td>-0.451741</td>\n",
       "      <td>0</td>\n",
       "    </tr>\n",
       "  </tbody>\n",
       "</table>\n",
       "</div>"
      ],
      "text/plain": [
       "       Sqft  Floor  TotalFloor  Bedroom  Living.Room  Bathroom     Price  \\\n",
       "0 -0.438893      2           7        2            2         2  0.054892   \n",
       "1  0.940508      5           7        4            2         2  0.531724   \n",
       "2 -0.495300      5           7        2            2         1 -0.064315   \n",
       "3 -0.033790      2           7        3            2         2 -0.451741   \n",
       "4 -0.741438     11          14        3            2         2 -0.451741   \n",
       "\n",
       "   Category  \n",
       "0         2  \n",
       "1         1  \n",
       "2         2  \n",
       "3         2  \n",
       "4         0  "
      ]
     },
     "execution_count": 55,
     "metadata": {},
     "output_type": "execute_result"
    }
   ],
   "source": [
    "df.head()"
   ]
  },
  {
   "cell_type": "code",
   "execution_count": null,
   "id": "299af1de",
   "metadata": {},
   "outputs": [],
   "source": []
  }
 ],
 "metadata": {
  "kernelspec": {
   "display_name": "Python 3 (ipykernel)",
   "language": "python",
   "name": "python3"
  },
  "language_info": {
   "codemirror_mode": {
    "name": "ipython",
    "version": 3
   },
   "file_extension": ".py",
   "mimetype": "text/x-python",
   "name": "python",
   "nbconvert_exporter": "python",
   "pygments_lexer": "ipython3",
   "version": "3.8.0"
  }
 },
 "nbformat": 4,
 "nbformat_minor": 5
}
